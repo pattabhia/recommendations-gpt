{
 "cells": [
  {
   "cell_type": "markdown",
   "id": "6ea89180",
   "metadata": {},
   "source": [
    "### Install OpenAI Library\n",
    "\n",
    "if this is your first time using OpenAI library, you must first install OpenAI"
   ]
  },
  {
   "cell_type": "code",
   "execution_count": null,
   "id": "6fa404c3",
   "metadata": {},
   "outputs": [
    {
     "ename": "",
     "evalue": "",
     "output_type": "error",
     "traceback": [
      "\u001b[1;31mRunning cells with '/opt/homebrew/bin/python3' requires the ipykernel package.\n",
      "\u001b[1;31mRun the following command to install 'ipykernel' into the Python environment. \n",
      "\u001b[1;31mCommand: '/opt/homebrew/bin/python3 -m pip install ipykernel -U --user --force-reinstall'"
     ]
    }
   ],
   "source": [
    "!pip install --upgrade pip"
   ]
  },
  {
   "cell_type": "code",
   "execution_count": null,
   "id": "437467ad",
   "metadata": {},
   "outputs": [],
   "source": [
    "!pip install -U openai"
   ]
  },
  {
   "cell_type": "markdown",
   "id": "e703d34f",
   "metadata": {},
   "source": [
    "### Import Libraries\n",
    "\n",
    "Import openai and json libraries as we will use them in our code"
   ]
  },
  {
   "cell_type": "code",
   "execution_count": 1,
   "id": "638793a4",
   "metadata": {},
   "outputs": [],
   "source": [
    "import openai\n",
    "import json\n",
    "import re\n",
    "import pandas as pd"
   ]
  },
  {
   "cell_type": "markdown",
   "id": "b158e52a",
   "metadata": {},
   "source": [
    "### Movie Database\n",
    "\n",
    "This file contains a list of movies collected from Movie Lens database.  \n",
    "The data includes movie lens, TMDb, IMDb information as well as average user ratings by Movie Lens users"
   ]
  },
  {
   "cell_type": "code",
   "execution_count": 2,
   "id": "bedbf39f",
   "metadata": {},
   "outputs": [
    {
     "data": {
      "text/html": [
       "<div>\n",
       "<style scoped>\n",
       "    .dataframe tbody tr th:only-of-type {\n",
       "        vertical-align: middle;\n",
       "    }\n",
       "\n",
       "    .dataframe tbody tr th {\n",
       "        vertical-align: top;\n",
       "    }\n",
       "\n",
       "    .dataframe thead th {\n",
       "        text-align: right;\n",
       "    }\n",
       "</style>\n",
       "<table border=\"1\" class=\"dataframe\">\n",
       "  <thead>\n",
       "    <tr style=\"text-align: right;\">\n",
       "      <th></th>\n",
       "      <th>Unnamed: 0</th>\n",
       "      <th>Unnamed: 0.1</th>\n",
       "      <th>movieId</th>\n",
       "      <th>title</th>\n",
       "      <th>genres</th>\n",
       "      <th>movie_title</th>\n",
       "      <th>movie_year</th>\n",
       "      <th>movie_genre</th>\n",
       "      <th>imdbId</th>\n",
       "      <th>tmdbId</th>\n",
       "      <th>...</th>\n",
       "      <th>vote_count</th>\n",
       "      <th>tid</th>\n",
       "      <th>title_IMDB</th>\n",
       "      <th>url</th>\n",
       "      <th>imdbRating</th>\n",
       "      <th>duration</th>\n",
       "      <th>year</th>\n",
       "      <th>nrOfWins</th>\n",
       "      <th>nrOfNominations</th>\n",
       "      <th>rating</th>\n",
       "    </tr>\n",
       "  </thead>\n",
       "  <tbody>\n",
       "    <tr>\n",
       "      <th>0</th>\n",
       "      <td>0</td>\n",
       "      <td>0</td>\n",
       "      <td>1.0</td>\n",
       "      <td>Toy Story (1995)</td>\n",
       "      <td>Adventure|Animation|Children|Comedy|Fantasy</td>\n",
       "      <td>Toy Story</td>\n",
       "      <td>1995</td>\n",
       "      <td>['Adventure', 'Animation', 'Children', 'Comedy...</td>\n",
       "      <td>tt0114709</td>\n",
       "      <td>862.0</td>\n",
       "      <td>...</td>\n",
       "      <td>5269.0</td>\n",
       "      <td>tt0114709</td>\n",
       "      <td>Toy Story (1995)</td>\n",
       "      <td>http://www.imdb.com/title/tt0114709/</td>\n",
       "      <td>8.3</td>\n",
       "      <td>4860.0</td>\n",
       "      <td>1995.0</td>\n",
       "      <td>19</td>\n",
       "      <td>13.0</td>\n",
       "      <td>3.921239561324077</td>\n",
       "    </tr>\n",
       "    <tr>\n",
       "      <th>1</th>\n",
       "      <td>1</td>\n",
       "      <td>1</td>\n",
       "      <td>2.0</td>\n",
       "      <td>Jumanji (1995)</td>\n",
       "      <td>Adventure|Children|Fantasy</td>\n",
       "      <td>Jumanji</td>\n",
       "      <td>1995</td>\n",
       "      <td>['Adventure', 'Children', 'Fantasy']</td>\n",
       "      <td>tt0113497</td>\n",
       "      <td>8844.0</td>\n",
       "      <td>...</td>\n",
       "      <td>NaN</td>\n",
       "      <td>tt0113497</td>\n",
       "      <td>Jumanji (1995)</td>\n",
       "      <td>http://www.imdb.com/title/tt0113497/</td>\n",
       "      <td>6.8</td>\n",
       "      <td>6240.0</td>\n",
       "      <td>1995.0</td>\n",
       "      <td>4</td>\n",
       "      <td>8.0</td>\n",
       "      <td>3.2119768016904193</td>\n",
       "    </tr>\n",
       "    <tr>\n",
       "      <th>2</th>\n",
       "      <td>2</td>\n",
       "      <td>2</td>\n",
       "      <td>3.0</td>\n",
       "      <td>Grumpier Old Men (1995)</td>\n",
       "      <td>Comedy|Romance</td>\n",
       "      <td>Grumpier Old Men</td>\n",
       "      <td>1995</td>\n",
       "      <td>['Comedy', 'Romance']</td>\n",
       "      <td>tt0113228</td>\n",
       "      <td>15602.0</td>\n",
       "      <td>...</td>\n",
       "      <td>NaN</td>\n",
       "      <td>tt0113228</td>\n",
       "      <td>Der dritte Fr√ºhling (1995)</td>\n",
       "      <td>http://www.imdb.com/title/tt0113228/</td>\n",
       "      <td>6.5</td>\n",
       "      <td>6060.0</td>\n",
       "      <td>1995.0</td>\n",
       "      <td>2</td>\n",
       "      <td>1.0</td>\n",
       "      <td>3.1510404397330194</td>\n",
       "    </tr>\n",
       "    <tr>\n",
       "      <th>3</th>\n",
       "      <td>3</td>\n",
       "      <td>3</td>\n",
       "      <td>4.0</td>\n",
       "      <td>Waiting to Exhale (1995)</td>\n",
       "      <td>Comedy|Drama|Romance</td>\n",
       "      <td>Waiting to Exhale</td>\n",
       "      <td>1995</td>\n",
       "      <td>['Comedy', 'Drama', 'Romance']</td>\n",
       "      <td>tt0114885</td>\n",
       "      <td>31357.0</td>\n",
       "      <td>...</td>\n",
       "      <td>NaN</td>\n",
       "      <td>tt0114885</td>\n",
       "      <td>Waiting to Exhale - Warten auf Mr. Right (1995)</td>\n",
       "      <td>http://www.imdb.com/title/tt0114885/</td>\n",
       "      <td>5.5</td>\n",
       "      <td>7440.0</td>\n",
       "      <td>1995.0</td>\n",
       "      <td>8</td>\n",
       "      <td>8.0</td>\n",
       "      <td>2.8613933236574747</td>\n",
       "    </tr>\n",
       "    <tr>\n",
       "      <th>4</th>\n",
       "      <td>4</td>\n",
       "      <td>4</td>\n",
       "      <td>5.0</td>\n",
       "      <td>Father of the Bride Part II (1995)</td>\n",
       "      <td>Comedy</td>\n",
       "      <td>Father of the Bride Part II</td>\n",
       "      <td>1995</td>\n",
       "      <td>['Comedy']</td>\n",
       "      <td>tt0113041</td>\n",
       "      <td>11862.0</td>\n",
       "      <td>...</td>\n",
       "      <td>NaN</td>\n",
       "      <td>tt0113041</td>\n",
       "      <td>Ein Geschenk des Himmels - Vater der Braut 2 (...</td>\n",
       "      <td>http://www.imdb.com/title/tt0113041/</td>\n",
       "      <td>5.8</td>\n",
       "      <td>6360.0</td>\n",
       "      <td>1995.0</td>\n",
       "      <td>1</td>\n",
       "      <td>1.0</td>\n",
       "      <td>3.064591727653976</td>\n",
       "    </tr>\n",
       "    <tr>\n",
       "      <th>...</th>\n",
       "      <td>...</td>\n",
       "      <td>...</td>\n",
       "      <td>...</td>\n",
       "      <td>...</td>\n",
       "      <td>...</td>\n",
       "      <td>...</td>\n",
       "      <td>...</td>\n",
       "      <td>...</td>\n",
       "      <td>...</td>\n",
       "      <td>...</td>\n",
       "      <td>...</td>\n",
       "      <td>...</td>\n",
       "      <td>...</td>\n",
       "      <td>...</td>\n",
       "      <td>...</td>\n",
       "      <td>...</td>\n",
       "      <td>...</td>\n",
       "      <td>...</td>\n",
       "      <td>...</td>\n",
       "      <td>...</td>\n",
       "      <td>...</td>\n",
       "    </tr>\n",
       "    <tr>\n",
       "      <th>38783</th>\n",
       "      <td>38783</td>\n",
       "      <td>38783</td>\n",
       "      <td>NaN</td>\n",
       "      <td>NaN</td>\n",
       "      <td>NaN</td>\n",
       "      <td>Peep Show Sectioning</td>\n",
       "      <td>2005</td>\n",
       "      <td>NaN</td>\n",
       "      <td>NaN</td>\n",
       "      <td>NaN</td>\n",
       "      <td>...</td>\n",
       "      <td>NaN</td>\n",
       "      <td>tt0672488</td>\n",
       "      <td>Peep Show Sectioning (TV Episode 2005)</td>\n",
       "      <td>http://www.imdb.com/title/tt0672488/</td>\n",
       "      <td>7.7</td>\n",
       "      <td>1440</td>\n",
       "      <td>2005</td>\n",
       "      <td>0</td>\n",
       "      <td>0</td>\n",
       "      <td>0.0</td>\n",
       "    </tr>\n",
       "    <tr>\n",
       "      <th>38784</th>\n",
       "      <td>38784</td>\n",
       "      <td>38784</td>\n",
       "      <td>NaN</td>\n",
       "      <td>NaN</td>\n",
       "      <td>NaN</td>\n",
       "      <td>Playhouse 90 The Miracle Worker</td>\n",
       "      <td>1957</td>\n",
       "      <td>NaN</td>\n",
       "      <td>NaN</td>\n",
       "      <td>NaN</td>\n",
       "      <td>...</td>\n",
       "      <td>NaN</td>\n",
       "      <td>tt0675644</td>\n",
       "      <td>Playhouse 90 The Miracle Worker (TV Episode 1957)</td>\n",
       "      <td>http://www.imdb.com/title/tt0675644/</td>\n",
       "      <td>7.3</td>\n",
       "      <td>5400</td>\n",
       "      <td>1957</td>\n",
       "      <td>0</td>\n",
       "      <td>0</td>\n",
       "      <td>0.0</td>\n",
       "    </tr>\n",
       "    <tr>\n",
       "      <th>38785</th>\n",
       "      <td>38785</td>\n",
       "      <td>38785</td>\n",
       "      <td>NaN</td>\n",
       "      <td>NaN</td>\n",
       "      <td>NaN</td>\n",
       "      <td>Private Screenings Robert Mitchum and Jane Rus...</td>\n",
       "      <td>1996</td>\n",
       "      <td>NaN</td>\n",
       "      <td>NaN</td>\n",
       "      <td>NaN</td>\n",
       "      <td>...</td>\n",
       "      <td>NaN</td>\n",
       "      <td>tt0679222</td>\n",
       "      <td>Private Screenings Robert Mitchum and Jane Rus...</td>\n",
       "      <td>http://www.imdb.com/title/tt0679222/</td>\n",
       "      <td>7</td>\n",
       "      <td>3600</td>\n",
       "      <td>1996</td>\n",
       "      <td>0</td>\n",
       "      <td>0</td>\n",
       "      <td>0.0</td>\n",
       "    </tr>\n",
       "    <tr>\n",
       "      <th>38786</th>\n",
       "      <td>38786</td>\n",
       "      <td>38786</td>\n",
       "      <td>NaN</td>\n",
       "      <td>NaN</td>\n",
       "      <td>NaN</td>\n",
       "      <td>Providence All the King's Men</td>\n",
       "      <td>2002</td>\n",
       "      <td>NaN</td>\n",
       "      <td>NaN</td>\n",
       "      <td>NaN</td>\n",
       "      <td>...</td>\n",
       "      <td>NaN</td>\n",
       "      <td>tt0680064</td>\n",
       "      <td>Providence All the King's Men (TV Episode 2002)</td>\n",
       "      <td>http://www.imdb.com/title/tt0680064/</td>\n",
       "      <td>NaN</td>\n",
       "      <td>3600</td>\n",
       "      <td>2002</td>\n",
       "      <td>0</td>\n",
       "      <td>0</td>\n",
       "      <td>0.0</td>\n",
       "    </tr>\n",
       "    <tr>\n",
       "      <th>38787</th>\n",
       "      <td>38787</td>\n",
       "      <td>38787</td>\n",
       "      <td>NaN</td>\n",
       "      <td>NaN</td>\n",
       "      <td>NaN</td>\n",
       "      <td>QI Adam</td>\n",
       "      <td>2003</td>\n",
       "      <td>NaN</td>\n",
       "      <td>NaN</td>\n",
       "      <td>NaN</td>\n",
       "      <td>...</td>\n",
       "      <td>NaN</td>\n",
       "      <td>tt0681024</td>\n",
       "      <td>QI Adam (TV Episode 2003)</td>\n",
       "      <td>http://www.imdb.com/title/tt0681024/</td>\n",
       "      <td>7.6</td>\n",
       "      <td>1800</td>\n",
       "      <td>2003</td>\n",
       "      <td>0</td>\n",
       "      <td>0</td>\n",
       "      <td>0.0</td>\n",
       "    </tr>\n",
       "  </tbody>\n",
       "</table>\n",
       "<p>38788 rows × 39 columns</p>\n",
       "</div>"
      ],
      "text/plain": [
       "      Unnamed: 0 Unnamed: 0.1 movieId                               title  \\\n",
       "0              0            0     1.0                    Toy Story (1995)   \n",
       "1              1            1     2.0                      Jumanji (1995)   \n",
       "2              2            2     3.0             Grumpier Old Men (1995)   \n",
       "3              3            3     4.0            Waiting to Exhale (1995)   \n",
       "4              4            4     5.0  Father of the Bride Part II (1995)   \n",
       "...          ...          ...     ...                                 ...   \n",
       "38783      38783        38783     NaN                                 NaN   \n",
       "38784      38784        38784     NaN                                 NaN   \n",
       "38785      38785        38785     NaN                                 NaN   \n",
       "38786      38786        38786     NaN                                 NaN   \n",
       "38787      38787        38787     NaN                                 NaN   \n",
       "\n",
       "                                            genres  \\\n",
       "0      Adventure|Animation|Children|Comedy|Fantasy   \n",
       "1                       Adventure|Children|Fantasy   \n",
       "2                                   Comedy|Romance   \n",
       "3                             Comedy|Drama|Romance   \n",
       "4                                           Comedy   \n",
       "...                                            ...   \n",
       "38783                                          NaN   \n",
       "38784                                          NaN   \n",
       "38785                                          NaN   \n",
       "38786                                          NaN   \n",
       "38787                                          NaN   \n",
       "\n",
       "                                             movie_title movie_year  \\\n",
       "0                                             Toy Story        1995   \n",
       "1                                               Jumanji        1995   \n",
       "2                                      Grumpier Old Men        1995   \n",
       "3                                     Waiting to Exhale        1995   \n",
       "4                           Father of the Bride Part II        1995   \n",
       "...                                                  ...        ...   \n",
       "38783                              Peep Show Sectioning        2005   \n",
       "38784                   Playhouse 90 The Miracle Worker        1957   \n",
       "38785  Private Screenings Robert Mitchum and Jane Rus...       1996   \n",
       "38786                     Providence All the King's Men        2002   \n",
       "38787                                           QI Adam        2003   \n",
       "\n",
       "                                             movie_genre     imdbId   tmdbId  \\\n",
       "0      ['Adventure', 'Animation', 'Children', 'Comedy...  tt0114709    862.0   \n",
       "1                   ['Adventure', 'Children', 'Fantasy']  tt0113497   8844.0   \n",
       "2                                  ['Comedy', 'Romance']  tt0113228  15602.0   \n",
       "3                         ['Comedy', 'Drama', 'Romance']  tt0114885  31357.0   \n",
       "4                                             ['Comedy']  tt0113041  11862.0   \n",
       "...                                                  ...        ...      ...   \n",
       "38783                                                NaN        NaN      NaN   \n",
       "38784                                                NaN        NaN      NaN   \n",
       "38785                                                NaN        NaN      NaN   \n",
       "38786                                                NaN        NaN      NaN   \n",
       "38787                                                NaN        NaN      NaN   \n",
       "\n",
       "       ... vote_count        tid  \\\n",
       "0      ...     5269.0  tt0114709   \n",
       "1      ...        NaN  tt0113497   \n",
       "2      ...        NaN  tt0113228   \n",
       "3      ...        NaN  tt0114885   \n",
       "4      ...        NaN  tt0113041   \n",
       "...    ...        ...        ...   \n",
       "38783  ...        NaN  tt0672488   \n",
       "38784  ...        NaN  tt0675644   \n",
       "38785  ...        NaN  tt0679222   \n",
       "38786  ...        NaN  tt0680064   \n",
       "38787  ...        NaN  tt0681024   \n",
       "\n",
       "                                              title_IMDB  \\\n",
       "0                                       Toy Story (1995)   \n",
       "1                                         Jumanji (1995)   \n",
       "2                            Der dritte Fr√ºhling (1995)   \n",
       "3        Waiting to Exhale - Warten auf Mr. Right (1995)   \n",
       "4      Ein Geschenk des Himmels - Vater der Braut 2 (...   \n",
       "...                                                  ...   \n",
       "38783             Peep Show Sectioning (TV Episode 2005)   \n",
       "38784  Playhouse 90 The Miracle Worker (TV Episode 1957)   \n",
       "38785  Private Screenings Robert Mitchum and Jane Rus...   \n",
       "38786    Providence All the King's Men (TV Episode 2002)   \n",
       "38787                          QI Adam (TV Episode 2003)   \n",
       "\n",
       "                                        url imdbRating duration    year  \\\n",
       "0      http://www.imdb.com/title/tt0114709/        8.3   4860.0  1995.0   \n",
       "1      http://www.imdb.com/title/tt0113497/        6.8   6240.0  1995.0   \n",
       "2      http://www.imdb.com/title/tt0113228/        6.5   6060.0  1995.0   \n",
       "3      http://www.imdb.com/title/tt0114885/        5.5   7440.0  1995.0   \n",
       "4      http://www.imdb.com/title/tt0113041/        5.8   6360.0  1995.0   \n",
       "...                                     ...        ...      ...     ...   \n",
       "38783  http://www.imdb.com/title/tt0672488/        7.7     1440    2005   \n",
       "38784  http://www.imdb.com/title/tt0675644/        7.3     5400    1957   \n",
       "38785  http://www.imdb.com/title/tt0679222/          7     3600    1996   \n",
       "38786  http://www.imdb.com/title/tt0680064/        NaN     3600    2002   \n",
       "38787  http://www.imdb.com/title/tt0681024/        7.6     1800    2003   \n",
       "\n",
       "      nrOfWins nrOfNominations              rating  \n",
       "0           19            13.0   3.921239561324077  \n",
       "1            4             8.0  3.2119768016904193  \n",
       "2            2             1.0  3.1510404397330194  \n",
       "3            8             8.0  2.8613933236574747  \n",
       "4            1             1.0   3.064591727653976  \n",
       "...        ...             ...                 ...  \n",
       "38783        0               0                 0.0  \n",
       "38784        0               0                 0.0  \n",
       "38785        0               0                 0.0  \n",
       "38786        0               0                 0.0  \n",
       "38787        0               0                 0.0  \n",
       "\n",
       "[38788 rows x 39 columns]"
      ]
     },
     "execution_count": 2,
     "metadata": {},
     "output_type": "execute_result"
    }
   ],
   "source": [
    "df_movie_abt = pd.read_csv(\"https://raw.githubusercontent.com/drarvindsathi/movie_recommender_data/main/data/movie_abt_with_rating.csv\", dtype='unicode')\n",
    "movie_json_list = json.loads(df_movie_abt.to_json(orient=\"records\"))\n",
    "df_movie_abt\n"
   ]
  },
  {
   "cell_type": "code",
   "execution_count": 3,
   "id": "00828a8d",
   "metadata": {},
   "outputs": [
    {
     "data": {
      "text/plain": [
       "Index(['Unnamed: 0', 'Unnamed: 0.1', 'movieId', 'title', 'genres',\n",
       "       'movie_title', 'movie_year', 'movie_genre', 'imdbId', 'tmdbId',\n",
       "       'budget', 'genres_TMDB', 'homepage', 'id', 'keywords',\n",
       "       'original_language', 'original_title', 'overview', 'popularity',\n",
       "       'production_companies', 'production_countries', 'release_date',\n",
       "       'revenue', 'runtime', 'spoken_languages', 'status', 'tagline',\n",
       "       'title_TMDB', 'vote_average', 'vote_count', 'tid', 'title_IMDB', 'url',\n",
       "       'imdbRating', 'duration', 'year', 'nrOfWins', 'nrOfNominations',\n",
       "       'rating'],\n",
       "      dtype='object')"
      ]
     },
     "execution_count": 3,
     "metadata": {},
     "output_type": "execute_result"
    }
   ],
   "source": [
    "df_movie_abt.columns"
   ]
  },
  {
   "cell_type": "markdown",
   "id": "5bae6a63",
   "metadata": {},
   "source": [
    "### Function to get movie information\n",
    "\n",
    "The following function will find movie information in response to a specific query.  The function uses a movie repository using TMDb, IMDb and Movie Lens information and has included in it user rating from Movie Lens viewers"
   ]
  },
  {
   "cell_type": "code",
   "execution_count": 4,
   "id": "6a1bb814",
   "metadata": {},
   "outputs": [],
   "source": [
    "def year_in_decade(year, decade):\n",
    "    decade_chars = len(decade)\n",
    "    start_of_decade = int(decade[0:decade_chars-1])\n",
    "    end_of_decade = start_of_decade +10\n",
    "    if year:\n",
    "        if len(year) == 4:\n",
    "            if int(year) >= start_of_decade:\n",
    "                if int(year) < end_of_decade:\n",
    "                    return True\n",
    "    return False\n",
    "\n",
    "def list_of_genres(movie_json_list):\n",
    "    genre_list = []\n",
    "    for movie_json in movie_json_list:\n",
    "        if movie_json['genres']:\n",
    "            movie_genre_list = movie_json['genres'].split('|')\n",
    "            for genre in movie_genre_list:\n",
    "                if genre not in genre_list:\n",
    "                    genre_list.append(genre)\n",
    "    return genre_list\n",
    "\n",
    "def provide_movie_details(dict, movie_json_list):\n",
    "    intent = dict[\"intent\"]\n",
    "    entity_type = dict[\"entity_type_3\"]\n",
    "    entity_value = dict[\"entity_value_3\"]\n",
    "    if intent == 'provide-movie-details':\n",
    "        if entity_type == 'movie':\n",
    "            for movie_json in movie_json_list:\n",
    "                if movie_json['movie_title']:\n",
    "                    movie_title = movie_json['movie_title']\n",
    "                    if entity_value in movie_title:\n",
    "                        length = movie_json['runtime']\n",
    "                        year = movie_json['movie_year']\n",
    "                        budget = movie_json['budget']\n",
    "                        genre = movie_json['genres']\n",
    "                        rating = movie_json['rating']\n",
    "                        sent_1 = \"%s is %s min long, from year %s, made with a budget of %s.\" % (entity_value, length, year, budget)\n",
    "                        sent_2 = \" Its genres include %s. It received a rating of %s from our viewers.\" % (genre, rating)\n",
    "                        return sent_1 + sent_2\n",
    "\n",
    "\n",
    "\n",
    "def recommend(dict):\n",
    "    intent = dict[\"intent\"]\n",
    "\n",
    "    if intent == 'list-of-genres':\n",
    "        genre_list = list_of_genres(movie_json_list)\n",
    "        number_of_genres = len(genre_list)\n",
    "        dict['message'] = [number_of_genres, genre_list]\n",
    "        return dict\n",
    "\n",
    "\n",
    "    if intent == 'count-movies-by-genre':\n",
    "        entity_type = dict[\"entity_type_1\"]\n",
    "        entity_value = dict[\"entity_value_1\"]\n",
    "        if entity_type == \"genre\":\n",
    "            genre_to_count = entity_value\n",
    "            movie_in_genre = []\n",
    "            for movie_json in movie_json_list:\n",
    "                if movie_json['movie_genre']:\n",
    "                    if genre_to_count in movie_json[\"movie_genre\"]:\n",
    "                        movie_in_genre.append(movie_json)\n",
    "            dict['message'] = len(movie_in_genre)\n",
    "            return dict\n",
    "\n",
    "    if intent == 'provide-movie-details':\n",
    "        dict['message'] = provide_movie_details(dict, movie_json_list)\n",
    "        return dict\n",
    "\n",
    "    if intent == \"recommend-movie-by-decade\":\n",
    "        entity_type_1 = dict[\"entity_type_1\"]\n",
    "        entity_value_1 = dict[\"entity_value_1\"]\n",
    "        entity_type_2 = dict[\"entity_type_2\"]\n",
    "        entity_value_2 = dict[\"entity_value_2\"]\n",
    "        if entity_type_1 == \"genre\":\n",
    "            genre_to_search = entity_value_1\n",
    "            if entity_type_2 == \"decade\":\n",
    "                decade_to_search = entity_value_2\n",
    "                movie_in_genre_decade = []\n",
    "                for movie_json in movie_json_list:\n",
    "                    if movie_json['movie_genre']:\n",
    "                        if genre_to_search in movie_json[\"movie_genre\"]:\n",
    "                            if year_in_decade(movie_json[\"movie_year\"], decade_to_search):\n",
    "                                movie_in_genre_decade.append(movie_json)\n",
    "                if movie_in_genre_decade:\n",
    "                    movie_in_genre_decade.sort(key=lambda x: x[\"rating\"], reverse=True)\n",
    "                    dict['message'] = movie_in_genre_decade[0][\"title\"]\n",
    "                    return dict\n",
    "                else:\n",
    "                    dict['message'] = \"I could not find a match\"\n",
    "                    return dict\n",
    "            else:\n",
    "                dict['message'] = \"you did not specify decade\"\n",
    "                return dict\n",
    "        else:\n",
    "            dict['message']: \"you did not specify genre\"\n",
    "            return dict\n"
   ]
  },
  {
   "cell_type": "code",
   "execution_count": 5,
   "id": "69df697d",
   "metadata": {},
   "outputs": [
    {
     "data": {
      "text/plain": [
       "{'intent': 'count-movies-by-genre',\n",
       " 'entity_type_1': 'genre',\n",
       " 'entity_value_1': 'Action',\n",
       " 'message': 3520}"
      ]
     },
     "execution_count": 5,
     "metadata": {},
     "output_type": "execute_result"
    }
   ],
   "source": [
    "example_1 = {\"intent\": \"count-movies-by-genre\",\n",
    "             \"entity_type_1\": \"genre\",\n",
    "             \"entity_value_1\": \"Action\"}\n",
    "\n",
    "recommend(example_1)"
   ]
  },
  {
   "cell_type": "code",
   "execution_count": 6,
   "id": "d099023e",
   "metadata": {},
   "outputs": [
    {
     "data": {
      "text/plain": [
       "{'intent': 'recommend-movie-by-decade',\n",
       " 'entity_type_1': 'genre',\n",
       " 'entity_value_1': 'Action',\n",
       " 'entity_type_2': 'decade',\n",
       " 'entity_value_2': '1970s',\n",
       " 'message': 'Deewaar (1975)'}"
      ]
     },
     "execution_count": 6,
     "metadata": {},
     "output_type": "execute_result"
    }
   ],
   "source": [
    "example_2 = {\"intent\": \"recommend-movie-by-decade\",\n",
    "             \"entity_type_1\": \"genre\",\n",
    "             \"entity_value_1\": \"Action\",\n",
    "             \"entity_type_2\": \"decade\",\n",
    "             \"entity_value_2\": \"1970s\"}\n",
    "recommend(example_2)"
   ]
  },
  {
   "cell_type": "code",
   "execution_count": 7,
   "id": "c7e4e9fd",
   "metadata": {},
   "outputs": [
    {
     "data": {
      "text/plain": [
       "{'intent': 'provide-movie-details',\n",
       " 'entity_type_3': 'movie',\n",
       " 'entity_value_3': 'Toy Story',\n",
       " 'message': 'Toy Story is 81.0 min long, from year 1995, made with a budget of 30000000.0. Its genres include Adventure|Animation|Children|Comedy|Fantasy. It received a rating of 3.921239561324077 from our viewers.'}"
      ]
     },
     "execution_count": 7,
     "metadata": {},
     "output_type": "execute_result"
    }
   ],
   "source": [
    "example_3 = {\"intent\": \"provide-movie-details\",\n",
    "             \"entity_type_3\": \"movie\",\n",
    "             \"entity_value_3\": \"Toy Story\"}\n",
    "recommend(example_3)"
   ]
  },
  {
   "cell_type": "markdown",
   "id": "351f429e",
   "metadata": {},
   "source": [
    "### Get an API Key\n",
    "\n",
    "To subscribe to OpenAI and obtain an API key (also known as a secret key), you can follow these steps:\n",
    "\n",
    "1. Go to the OpenAI website: https://chat.openai.com/auth/login\n",
    "2. Click on the \"Sign up\" button at the top-right corner of the page.\n",
    "3. Follow the instructions to create an account, which will involve providing your name, email address, and creating a password.\n",
    "4. Once you have created an account, you will be taken to your dashboard. Click on the \"API Keys\" link in the left sidebar.\n",
    "5. On the API Keys page, click the \"Generate API Key\" button.\n",
    "6. You will be prompted to enter a name for your API key (e.g. \"My Test Key\"). Enter a descriptive name and click the \"Generate\" button.\n",
    "7. Your API key will be generated and displayed on the page. Make sure to copy the key and store it in a safe place.\n",
    "\n",
    "Note that OpenAI currently charges for API usage beyond a certain amount of free usage per month, so make sure to review the pricing and billing information on their website if you plan to use the API for commercial purposes.  If you use the key for exercise in our course, it will be within their free use.\n"
   ]
  },
  {
   "cell_type": "markdown",
   "id": "bf4591ca",
   "metadata": {},
   "source": [
    "### Use api key for your model\n",
    "\n",
    "Create JSON file config.json using the format:\n",
    "{\"secret_key\": \"<your secret key>\"}\n",
    "\n",
    "where you will replace <your secret key> with the API key you obtained from OpenAI.   "
   ]
  },
  {
   "cell_type": "code",
   "execution_count": 8,
   "id": "95d11ef5",
   "metadata": {},
   "outputs": [],
   "source": [
    "with open(\"config.json\") as json_file:\n",
    "    config = json.load(json_file)\n",
    "openai.api_key = config['secret_key']"
   ]
  },
  {
   "cell_type": "markdown",
   "id": "e2d14bb3",
   "metadata": {},
   "source": [
    "### Create Your GPT-4 Conversation for Intent Detection\n",
    "\n",
    "We will initiate a conversation log to define the role as the front end that detects intents, extract entities and use prompts to accomplish that task."
   ]
  },
  {
   "cell_type": "markdown",
   "id": "df687a54",
   "metadata": {},
   "source": [
    "### Log your conversations\n",
    "\n",
    "GPT-4 can deal with a conversation dialog with multiple interactions.  \n",
    "To facilitate, we will create a JSON that will store your conversations and seed with an open statement.\n",
    "We will use this JSON to store conversations initiated by the system and user\n",
    "using 'role' with values 'system' and 'user'"
   ]
  },
  {
   "cell_type": "code",
   "execution_count": 9,
   "id": "06ac8631",
   "metadata": {},
   "outputs": [],
   "source": [
    "conversations = []"
   ]
  },
  {
   "cell_type": "code",
   "execution_count": 10,
   "id": "1bad6b90",
   "metadata": {},
   "outputs": [],
   "source": [
    "conversations.append({'role': 'system', 'content': \"\"\"Your role is to detect intents and extract entities in \n",
    "user queries.  The output is a JSON which will be used to query a backend system\"\"\"})"
   ]
  },
  {
   "cell_type": "code",
   "execution_count": 11,
   "id": "a81ea662",
   "metadata": {},
   "outputs": [
    {
     "name": "stdout",
     "output_type": "stream",
     "text": [
      "system: Your role is to detect intents and extract entities in \n",
      "user queries.  The output is a JSON which will be used to query a backend system\n",
      "\n"
     ]
    }
   ],
   "source": [
    "print('{0}: {1}\\n'.format(conversations[-1]['role'].strip(), conversations[-1]['content'].strip()))"
   ]
  },
  {
   "cell_type": "markdown",
   "id": "8f8f4889",
   "metadata": {},
   "source": [
    "### Add a user querry\n",
    "\n",
    "Now that we have created an opening statement, let's add a user query by appending to the conversations JSON."
   ]
  },
  {
   "cell_type": "code",
   "execution_count": 12,
   "id": "84d82bbe",
   "metadata": {},
   "outputs": [],
   "source": [
    "user_query = \"Do you have a 1970s action movie?\""
   ]
  },
  {
   "cell_type": "code",
   "execution_count": 13,
   "id": "577150a4",
   "metadata": {},
   "outputs": [],
   "source": [
    "prompt = \"\"\"Use the following examples for intent definition \n",
    "Example: How many Genres do you have -> Intent: list-of-genres \n",
    "Example: How many action movies do you have -> Intent: count-movies-by-genre \n",
    "Example: Can you recommend a 1990s action movie -> Intent: recommend-movie-by-decade \n",
    "Example: Can you provide Toy Story movie details -> Intent: provide-movie-details \n",
    "Query: %s Please provide the intents in JSON format {'intent': '<detected intent>'} which can be directly \n",
    "used in a backend query\"\"\" % (user_query)\n"
   ]
  },
  {
   "cell_type": "code",
   "execution_count": 14,
   "id": "87ec0cea",
   "metadata": {},
   "outputs": [
    {
     "data": {
      "text/plain": [
       "[{'role': 'system',\n",
       "  'content': 'Your role is to detect intents and extract entities in \\nuser queries.  The output is a JSON which will be used to query a backend system'},\n",
       " {'role': 'user',\n",
       "  'content': \"Use the following examples for intent definition \\nExample: How many Genres do you have -> Intent: list-of-genres \\nExample: How many action movies do you have -> Intent: count-movies-by-genre \\nExample: Can you recommend a 1990s action movie -> Intent: recommend-movie-by-decade \\nExample: Can you provide Toy Story movie details -> Intent: provide-movie-details \\nQuery: Do you have a 1970s action movie? Please provide the intents in JSON format {'intent': '<detected intent>'} which can be directly \\nused in a backend query\"}]"
      ]
     },
     "execution_count": 14,
     "metadata": {},
     "output_type": "execute_result"
    }
   ],
   "source": [
    "conversations.append({\"role\": \"user\", \"content\": prompt})\n",
    "conversations"
   ]
  },
  {
   "cell_type": "markdown",
   "id": "b7529884",
   "metadata": {},
   "source": [
    "### Use GPT-4 to detect Intents and extract entities\n",
    "\n",
    "Here we will use gpt-4 to detect intent and entities from user queries\n"
   ]
  },
  {
   "cell_type": "code",
   "execution_count": 15,
   "id": "35f20622",
   "metadata": {},
   "outputs": [],
   "source": [
    "response = openai.ChatCompletion.create(\n",
    "  model=\"gpt-4\",\n",
    "  temperature=0,\n",
    "  messages=conversations\n",
    ")\n"
   ]
  },
  {
   "cell_type": "code",
   "execution_count": 16,
   "id": "e704e022",
   "metadata": {},
   "outputs": [],
   "source": [
    "conversations.append({'role': response.choices[0].message.role, \n",
    "                      'content': response.choices[0].message.content.strip()})"
   ]
  },
  {
   "cell_type": "markdown",
   "id": "06dfa917",
   "metadata": {},
   "source": [
    "### Print conversations\n",
    "\n",
    "Let's print all conversations so far..."
   ]
  },
  {
   "cell_type": "code",
   "execution_count": 17,
   "id": "51634e03",
   "metadata": {},
   "outputs": [
    {
     "name": "stdout",
     "output_type": "stream",
     "text": [
      "system: Your role is to detect intents and extract entities in \n",
      "user queries.  The output is a JSON which will be used to query a backend system\n",
      "\n",
      "user: Use the following examples for intent definition \n",
      "Example: How many Genres do you have -> Intent: list-of-genres \n",
      "Example: How many action movies do you have -> Intent: count-movies-by-genre \n",
      "Example: Can you recommend a 1990s action movie -> Intent: recommend-movie-by-decade \n",
      "Example: Can you provide Toy Story movie details -> Intent: provide-movie-details \n",
      "Query: Do you have a 1970s action movie? Please provide the intents in JSON format {'intent': '<detected intent>'} which can be directly \n",
      "used in a backend query\n",
      "\n",
      "assistant: {\n",
      "  \"intent\": \"recommend-movie-by-decade\",\n",
      "  \"entities\": {\n",
      "    \"decade\": \"1970s\",\n",
      "    \"genre\": \"action\"\n",
      "  }\n",
      "}\n",
      "\n"
     ]
    }
   ],
   "source": [
    "for conversation in conversations:\n",
    "    print('{0}: {1}\\n'.format(conversation['role'].strip(), conversation['content'].strip()))"
   ]
  },
  {
   "cell_type": "markdown",
   "id": "e2ecc9be",
   "metadata": {},
   "source": [
    "### User query to extract entities\n",
    "\n",
    "Here we will use gpt-4 to extract entities from user queries.  The response is appened to the conversations"
   ]
  },
  {
   "cell_type": "code",
   "execution_count": 18,
   "id": "9b471c47",
   "metadata": {},
   "outputs": [],
   "source": [
    "prompt = \"\"\"Use the following examples for entity definition\n",
    "Example: How many action movies do you have  -> entity_type_1: genre, entity_value_1: Action\n",
    "Example: Can you recommend a 1990s drama movie -> entity_type_1: genre, entity_value_1: Drama, \n",
    "             entity_type_2: decade, entity_value_2: 1990s\n",
    "Example: Can you provide Toy Story movie details -> entity_type_3: movie, entity_value_3: Toy Story 2\n",
    "Query: %s revise JSON with intent to include \n",
    "                            {\"intent\": <intent in the JSON>,\n",
    "                             \"entity_type_1\": \"genre\",\n",
    "                             \"entity_value_1\": \"<genre found in query with first letter capitalized\">, \n",
    "                             \"entity_type_2\": \"decade\", \n",
    "                             \"entity_value_2\": <decade information>,\n",
    "                             \"entity_type_3\": \"movie\", \"entity_value_3\": <movie information found in the query>}. \n",
    "Your role is to provide JSON which will be used in backend query\n",
    "\"\"\" % (user_query)"
   ]
  },
  {
   "cell_type": "code",
   "execution_count": 19,
   "id": "ee36ccbb",
   "metadata": {},
   "outputs": [
    {
     "data": {
      "text/plain": [
       "'Use the following examples for entity definition\\nExample: How many action movies do you have  -> entity_type_1: genre, entity_value_1: Action\\nExample: Can you recommend a 1990s drama movie -> entity_type_1: genre, entity_value_1: Drama, \\n             entity_type_2: decade, entity_value_2: 1990s\\nExample: Can you provide Toy Story movie details -> entity_type_3: movie, entity_value_3: Toy Story 2\\nQuery: Do you have a 1970s action movie? revise JSON with intent to include \\n                            {\"intent\": <intent in the JSON>,\\n                             \"entity_type_1\": \"genre\",\\n                             \"entity_value_1\": \"<genre found in query with first letter capitalized\">, \\n                             \"entity_type_2\": \"decade\", \\n                             \"entity_value_2\": <decade information>,\\n                             \"entity_type_3\": \"movie\", \"entity_value_3\": <movie information found in the query>}. \\nYour role is to provide JSON which will be used in backend query\\n'"
      ]
     },
     "execution_count": 19,
     "metadata": {},
     "output_type": "execute_result"
    }
   ],
   "source": [
    "prompt"
   ]
  },
  {
   "cell_type": "code",
   "execution_count": 20,
   "id": "392c0634",
   "metadata": {},
   "outputs": [],
   "source": [
    "conversations.append({\"role\": \"user\", \"content\": prompt})"
   ]
  },
  {
   "cell_type": "markdown",
   "id": "61c607d3",
   "metadata": {},
   "source": [
    "### Use GPT-4 to extract entities\n",
    "\n",
    "Here we will use gpt-4 to extract entities from user queries"
   ]
  },
  {
   "cell_type": "code",
   "execution_count": 21,
   "id": "d3b9ee17",
   "metadata": {},
   "outputs": [],
   "source": [
    "response = openai.ChatCompletion.create(\n",
    "  model=\"gpt-4\",\n",
    "  temperature=0,\n",
    "  messages=conversations\n",
    ")\n"
   ]
  },
  {
   "cell_type": "code",
   "execution_count": 22,
   "id": "f5f8db2b",
   "metadata": {},
   "outputs": [],
   "source": [
    "conversations.append({'role': response.choices[0].message.role, \n",
    "                      'content': response.choices[0].message.content.strip()})"
   ]
  },
  {
   "cell_type": "markdown",
   "id": "7ca9c19e",
   "metadata": {},
   "source": [
    "### Print conversations\n",
    "\n",
    "Let's print all conversations so far..."
   ]
  },
  {
   "cell_type": "code",
   "execution_count": 23,
   "id": "ca62ee01",
   "metadata": {},
   "outputs": [
    {
     "name": "stdout",
     "output_type": "stream",
     "text": [
      "system: Your role is to detect intents and extract entities in \n",
      "user queries.  The output is a JSON which will be used to query a backend system\n",
      "\n",
      "user: Use the following examples for intent definition \n",
      "Example: How many Genres do you have -> Intent: list-of-genres \n",
      "Example: How many action movies do you have -> Intent: count-movies-by-genre \n",
      "Example: Can you recommend a 1990s action movie -> Intent: recommend-movie-by-decade \n",
      "Example: Can you provide Toy Story movie details -> Intent: provide-movie-details \n",
      "Query: Do you have a 1970s action movie? Please provide the intents in JSON format {'intent': '<detected intent>'} which can be directly \n",
      "used in a backend query\n",
      "\n",
      "assistant: {\n",
      "  \"intent\": \"recommend-movie-by-decade\",\n",
      "  \"entities\": {\n",
      "    \"decade\": \"1970s\",\n",
      "    \"genre\": \"action\"\n",
      "  }\n",
      "}\n",
      "\n",
      "user: Use the following examples for entity definition\n",
      "Example: How many action movies do you have  -> entity_type_1: genre, entity_value_1: Action\n",
      "Example: Can you recommend a 1990s drama movie -> entity_type_1: genre, entity_value_1: Drama, \n",
      "             entity_type_2: decade, entity_value_2: 1990s\n",
      "Example: Can you provide Toy Story movie details -> entity_type_3: movie, entity_value_3: Toy Story 2\n",
      "Query: Do you have a 1970s action movie? revise JSON with intent to include \n",
      "                            {\"intent\": <intent in the JSON>,\n",
      "                             \"entity_type_1\": \"genre\",\n",
      "                             \"entity_value_1\": \"<genre found in query with first letter capitalized\">, \n",
      "                             \"entity_type_2\": \"decade\", \n",
      "                             \"entity_value_2\": <decade information>,\n",
      "                             \"entity_type_3\": \"movie\", \"entity_value_3\": <movie information found in the query>}. \n",
      "Your role is to provide JSON which will be used in backend query\n",
      "\n",
      "assistant: {\n",
      "  \"intent\": \"recommend-movie-by-decade\",\n",
      "  \"entity_type_1\": \"genre\",\n",
      "  \"entity_value_1\": \"Action\",\n",
      "  \"entity_type_2\": \"decade\",\n",
      "  \"entity_value_2\": \"1970s\",\n",
      "  \"entity_type_3\": \"movie\",\n",
      "  \"entity_value_3\": \"\"\n",
      "}\n",
      "\n"
     ]
    }
   ],
   "source": [
    "for conversation in conversations:\n",
    "    print('{0}: {1}\\n'.format(conversation['role'].strip(), conversation['content'].strip()))"
   ]
  },
  {
   "cell_type": "markdown",
   "id": "7b217746",
   "metadata": {},
   "source": [
    "### Invoke back end function \n",
    "\n",
    "Using the JSON created by GPT-4, now you can invoke the backend function"
   ]
  },
  {
   "cell_type": "code",
   "execution_count": 24,
   "id": "bf99c305",
   "metadata": {},
   "outputs": [
    {
     "data": {
      "text/plain": [
       "'{\\n  \"intent\": \"recommend-movie-by-decade\",\\n  \"entity_type_1\": \"genre\",\\n  \"entity_value_1\": \"Action\",\\n  \"entity_type_2\": \"decade\",\\n  \"entity_value_2\": \"1970s\",\\n  \"entity_type_3\": \"movie\",\\n  \"entity_value_3\": \"\"\\n}'"
      ]
     },
     "execution_count": 24,
     "metadata": {},
     "output_type": "execute_result"
    }
   ],
   "source": [
    "response.choices[0].message.content.strip()"
   ]
  },
  {
   "cell_type": "code",
   "execution_count": 25,
   "id": "c0f69bfc",
   "metadata": {},
   "outputs": [
    {
     "data": {
      "text/plain": [
       "{'intent': 'recommend-movie-by-decade',\n",
       " 'entity_type_1': 'genre',\n",
       " 'entity_value_1': 'Action',\n",
       " 'entity_type_2': 'decade',\n",
       " 'entity_value_2': '1970s',\n",
       " 'entity_type_3': 'movie',\n",
       " 'entity_value_3': ''}"
      ]
     },
     "execution_count": 25,
     "metadata": {},
     "output_type": "execute_result"
    }
   ],
   "source": [
    "backend_query_str = response.choices[0].message.content.strip()\n",
    "backend_query = json.loads(backend_query_str)\n",
    "backend_query"
   ]
  },
  {
   "cell_type": "code",
   "execution_count": 26,
   "id": "f0f19928",
   "metadata": {},
   "outputs": [],
   "source": [
    "backend_query_result = recommend(backend_query)"
   ]
  },
  {
   "cell_type": "code",
   "execution_count": 27,
   "id": "1d773ecf",
   "metadata": {},
   "outputs": [
    {
     "data": {
      "text/plain": [
       "'{\"intent\": \"recommend-movie-by-decade\", \"entity_type_1\": \"genre\", \"entity_value_1\": \"Action\", \"entity_type_2\": \"decade\", \"entity_value_2\": \"1970s\", \"entity_type_3\": \"movie\", \"entity_value_3\": \"\", \"message\": \"Deewaar (1975)\"}'"
      ]
     },
     "execution_count": 27,
     "metadata": {},
     "output_type": "execute_result"
    }
   ],
   "source": [
    "json.dumps(backend_query_result)"
   ]
  },
  {
   "cell_type": "markdown",
   "id": "10da1e26",
   "metadata": {},
   "source": [
    "### Response to User\n",
    "\n",
    "Once the backend query provides the response, we can ask GPT-4 to construct a sentence.\n",
    "GPT-4 will convert the backend response in JSON format to a sentence that can be displayed to user"
   ]
  },
  {
   "cell_type": "code",
   "execution_count": 28,
   "id": "67450e52",
   "metadata": {},
   "outputs": [],
   "source": [
    "conversations = []"
   ]
  },
  {
   "cell_type": "code",
   "execution_count": 29,
   "id": "55aeedbe",
   "metadata": {},
   "outputs": [],
   "source": [
    "conversations.append({\"role\": \"user\", \n",
    "                      \"content\": \"Response to query in JSON form \" + \n",
    "                                 json.dumps(backend_query_result) + \n",
    "        \" can you refer to the original user query and convert this JSON into English response to user\"})"
   ]
  },
  {
   "cell_type": "code",
   "execution_count": 30,
   "id": "eab1368b",
   "metadata": {},
   "outputs": [],
   "source": [
    "response = openai.ChatCompletion.create(\n",
    "  model=\"gpt-4\",\n",
    "  temperature=1,\n",
    "  messages=conversations\n",
    ")"
   ]
  },
  {
   "cell_type": "code",
   "execution_count": 31,
   "id": "b287ebd9",
   "metadata": {},
   "outputs": [],
   "source": [
    "conversations.append({'role': response.choices[0].message.role, \n",
    "                      'content': response.choices[0].message.content.strip()})"
   ]
  },
  {
   "cell_type": "code",
   "execution_count": 32,
   "id": "ecf396c1",
   "metadata": {},
   "outputs": [
    {
     "name": "stdout",
     "output_type": "stream",
     "text": [
      "user: Response to query in JSON form {\"intent\": \"recommend-movie-by-decade\", \"entity_type_1\": \"genre\", \"entity_value_1\": \"Action\", \"entity_type_2\": \"decade\", \"entity_value_2\": \"1970s\", \"entity_type_3\": \"movie\", \"entity_value_3\": \"\", \"message\": \"Deewaar (1975)\"} can you refer to the original user query and convert this JSON into English response to user\n",
      "\n",
      "assistant: Based on your preferences for action movies from the 1970s, I recommend watching \"Deewaar (1975)\".\n",
      "\n"
     ]
    }
   ],
   "source": [
    "for conversation in conversations:\n",
    "    print('{0}: {1}\\n'.format(conversation['role'].strip(), conversation['content'].strip()))"
   ]
  },
  {
   "cell_type": "markdown",
   "id": "ac91b661",
   "metadata": {},
   "source": [
    "### Orchestrator\n",
    "\n",
    "Let's use the code created in this Notebook to define an orchestrator\n",
    "It will perform the following functions:\n",
    "- It will use a welcoming statement to get the user started\n",
    "- It will interpret the query from user to find user intent and entities\n",
    "- If the user has made an incomplete query, it will use disambiguation to complete the intent and entities\n",
    "- It will engage the recommendation engine to get a response\n",
    "- It will use chatGPT to get response to a question in case intent is not covered by the recommendation engine\n",
    "- It will inform back the user and ask if there are additional questions"
   ]
  },
  {
   "cell_type": "code",
   "execution_count": 33,
   "id": "dd093fa9",
   "metadata": {},
   "outputs": [],
   "source": [
    "global CONVERSATIONS\n",
    "global BACK_END_CONVERSATIONS\n",
    "\n",
    "def find_intents_entities(user_query):\n",
    "    \n",
    "    global BACK_END_CONVERSATIONS\n",
    "    \n",
    "    BACK_END_CONVERSATIONS.append({'role': 'system', 'content': \"\"\"Your role is to detect intents and extract entities in \n",
    "user queries.  The output is a JSON which will be used to query a backend system\"\"\"})\n",
    "    \n",
    "    prompt_intent = \"\"\"Use the following examples for intent definition \n",
    "                    Example: How many Genres do you have -> Intent: list-of-genres \n",
    "                    Example: How many action movies do you have -> Intent: count-movies-by-genre \n",
    "                    Example: Can you recommend a 1990s action movie -> Intent: recommend-movie-by-decade \n",
    "                    Example: Can you provide Toy Story movie details -> Intent: provide-movie-details \n",
    "                    Query: %s Please provide the intents in JSON format \n",
    "                    {'intent': '<detected intent>'} \n",
    "                    which can be directly used in a backend query\"\"\" % (user_query)\n",
    "    \n",
    "    BACK_END_CONVERSATIONS.append({\"role\": \"user\", \"content\": prompt_intent})\n",
    "    \n",
    "    response = openai.ChatCompletion.create(model=\"gpt-4\",\n",
    "                                            temperature=0,\n",
    "                                            messages=BACK_END_CONVERSATIONS)\n",
    "    \n",
    "    BACK_END_CONVERSATIONS.append({'role': response.choices[0].message.role, \n",
    "                                   'content': response.choices[0].message.content.strip()})\n",
    "    \n",
    "    backend_query_str = response.choices[0].message.content.strip()\n",
    "#    print(backend_query_str)\n",
    "    query_json = json.loads(backend_query_str)\n",
    "    if query_json['intent'] in ['count-movies-by-genre', 'recommend-movie-by-decade']:\n",
    "    \n",
    "        prompt_entities = \"\"\"Use the following examples for entity definition\n",
    "                          Example: How many action movies do you have  -> entity_type_1: genre, entity_value_1: Action\n",
    "                          Example: Can you recommend a 1990s drama movie -> entity_type_1: genre, entity_value_1: Drama, \n",
    "                           entity_type_2: decade, entity_value_2: 1990s\n",
    "                          Example: Can you provide Toy Story movie details -> entity_type_3: movie, entity_value_3: Toy Story 2\n",
    "                          Query: %s revise JSON with intent to include \n",
    "                            {\"intent\": <intent in the JSON>,\n",
    "                             \"entity_type_1\": \"genre\",\n",
    "                             \"entity_value_1\": \"<genre found in query with first letter capitalized\">, \n",
    "                             \"entity_type_2\": \"decade\", \n",
    "                             \"entity_value_2\": <decade information>,\n",
    "                             \"entity_type_3\": \"movie\", \"entity_value_3\": <movie information found in the query>}.  \n",
    "                          Your role is to provide JSON which will be used in backend query\"\"\" % (user_query)\n",
    "#        print(prompt_entities)\n",
    "    \n",
    "        BACK_END_CONVERSATIONS.append({\"role\": \"user\", \"content\": prompt_entities})\n",
    "    \n",
    "        response = openai.ChatCompletion.create(model=\"gpt-4\",\n",
    "                                                temperature=0,\n",
    "                                            messages=BACK_END_CONVERSATIONS)\n",
    "#        print(response)\n",
    "\n",
    "        BACK_END_CONVERSATIONS.append({'role': response.choices[0].message.role, \n",
    "                          'content': response.choices[0].message.content.strip()})\n",
    "    \n",
    "        backend_query_str = response.choices[0].message.content.strip()\n",
    "        query_json = json.loads(backend_query_str)\n",
    "    \n",
    "    return query_json\n",
    "\n",
    "\n",
    "def orchestrator(dialog):\n",
    "    \n",
    "    global CONVERSATIONS\n",
    "    global BACK_END_CONVERSATIONS\n",
    "    \n",
    "    CONVERSATIONS.append({'role': 'system', \n",
    "                          'content': \"\"\"Welcome to the movie recommendation system.  \n",
    "    We have 40,000 movies and 500K ratings in our recommendation system.\n",
    "    Which movie would you like to watch.  Please tell us genre, and decade?\"\"\"})\n",
    "    for conversation in CONVERSATIONS:\n",
    "        print(conversation['role'], \" : \", conversation['content'])\n",
    "\n",
    "\n",
    "    while dialog == True:\n",
    "        \n",
    "        user_query = input(\"Please enter your query: \")\n",
    "        \n",
    "        CONVERSATIONS.append({'role': 'user', \n",
    "                              'content': user_query})\n",
    "    \n",
    "     #   for conversation in CONVERSATIONS:\n",
    "     #       print(conversation['role'], \" : \", conversation['content'])\n",
    "    \n",
    "        \n",
    "        BACK_END_CONVERSATIONS = []\n",
    "        \n",
    "  #      print(user_query)\n",
    "    \n",
    "        query_json = find_intents_entities(user_query)\n",
    "        \n",
    " #       print(query_json)\n",
    "    \n",
    "        backend_query_result = recommend(query_json)\n",
    "        \n",
    "        \n",
    "        CONVERSATIONS.append({\"role\": \"system\", \n",
    "                      \"content\": \"Response to query in JSON form \" + \n",
    "                                 json.dumps(backend_query_result) + \n",
    "        \" refer to original user query and convert JSON into English response with movie overview or genre definitions using a chatty, cheerful persona\"})\n",
    "        \n",
    "        response = openai.ChatCompletion.create(model=\"gpt-4\",\n",
    "                                                temperature=1,\n",
    "                                                messages=CONVERSATIONS)\n",
    "        \n",
    "        CONVERSATIONS.append({'role': response.choices[0].message.role, \n",
    "                      'content': response.choices[0].message.content.strip()})\n",
    "        \n",
    "        print(response.choices[0].message.role, \" : \", response.choices[0].message.content.strip())\n",
    "        \n",
    "        #for conversation in CONVERSATIONS:\n",
    "        #    print(conversation['role'], \" : \", conversation['content'])\n",
    "        \n",
    "    \n",
    "        user_response = input(\"\\nDo you have additional questions? (Yes/No): \")\n",
    "        \n",
    "        if user_response.lower() == 'no':\n",
    "            print(\"Thank you for using the Orchestrator. Have a great day!\")\n",
    "            dialog = False\n",
    "        else:\n",
    "            dialog = True\n"
   ]
  },
  {
   "cell_type": "markdown",
   "id": "ea49687a",
   "metadata": {},
   "source": [
    "### Example using Orchestrator\n",
    "\n",
    "Here we will run the orchestrator"
   ]
  },
  {
   "cell_type": "code",
   "execution_count": 34,
   "id": "23587a90",
   "metadata": {},
   "outputs": [
    {
     "name": "stdout",
     "output_type": "stream",
     "text": [
      "system  :  Welcome to the movie recommendation system.  \n",
      "    We have 40,000 movies and 500K ratings in our recommendation system.\n",
      "    Which movie would you like to watch.  Please tell us genre, and decade?\n",
      "Please enter your query: How many genres do you have in your database?\n",
      "assistant  :  We have 20 exciting genres in our database for you to explore! Here's a list of them:\n",
      "\n",
      "1. Adventure: Movies filled with exciting journeys and daring exploits.\n",
      "2. Animation: Films brought to life using various animation techniques.\n",
      "3. Children: Wholesome entertainment suitable for kids.\n",
      "4. Comedy: Movies that'll make you laugh and lift your spirits.\n",
      "5. Fantasy: Films set in magical realms or featuring mythical creatures.\n",
      "6. Romance: Love stories that'll tug at your heartstrings.\n",
      "7. Drama: Engaging narratives that capture the essence of human emotions.\n",
      "8. Action: Fast-paced flicks packed with adrenaline-pumping sequences.\n",
      "9. Crime: Thrilling plots involving lawbreakers and their pursuers.\n",
      "10. Thriller: Edge-of-your-seat films with suspenseful twists and turns.\n",
      "11. Horror: Spine-tingling tales of fear and the supernatural.\n",
      "12. Mystery: Gripping stories that keep you guessing until the end.\n",
      "13. Sci-Fi: Amazing adventures set in futuristic worlds or outer space.\n",
      "14. IMAX: High-quality, large-format cinematic experiences.\n",
      "15. Documentary: Factual films that educate as well as entertain.\n",
      "16. War: Compelling stories set against the backdrop of armed conflict.\n",
      "17. Musical: Uplifting movies featuring song and dance routines.\n",
      "18. Film-Noir: Dark, moody crime dramas with stylish visuals.\n",
      "19. Western: Sagas from the American frontier that showcase rugged landscapes and fearless heroes.\n",
      "20. (no genres listed): Movies that don't fit neatly into any of the above categories.\n",
      "\n",
      "Now that you know our fantastic selection of genres, don't hesitate to tell me your preferred genre and decade, and I'll find the perfect movie for you!\n",
      "\n",
      "Do you have additional questions? (Yes/No): Yes\n",
      "Please enter your query: How many action movies do you have in your database\n",
      "assistant  :  We have a thrilling collection of 3,520 action-packed movies in our database! With so many to choose from, you're sure to find the perfect adrenaline rush for your movie night. Just let me know the decade you'd like to explore, and I'll recommend a fantastic action flick for you!\n",
      "\n",
      "Do you have additional questions? (Yes/No): Yes\n",
      "Please enter your query: Can you recommend a 1970s action movie\n",
      "assistant  :  Absolutely! I recommend the thrilling action movie \"Deewaar\" (1975). This classic 1970s film is filled with gripping drama and intense action scenes. Set in Bombay, it tells the powerful story of two brothers who find themselves on opposite sides of the law due to their different life choices. Get ready for an unforgettable viewing experience as you dive into this action-packed gem from the 1970s!\n",
      "\n",
      "Do you have additional questions? (Yes/No): No\n",
      "Thank you for using the Orchestrator. Have a great day!\n"
     ]
    }
   ],
   "source": [
    "CONVERSATIONS = []\n",
    "dialog = True\n",
    "orchestrator(dialog)"
   ]
  },
  {
   "cell_type": "code",
   "execution_count": null,
   "id": "2cd6a8dd",
   "metadata": {},
   "outputs": [],
   "source": []
  }
 ],
 "metadata": {
  "kernelspec": {
   "display_name": "Python 3 (ipykernel)",
   "language": "python",
   "name": "python3"
  },
  "language_info": {
   "codemirror_mode": {
    "name": "ipython",
    "version": 3
   },
   "file_extension": ".py",
   "mimetype": "text/x-python",
   "name": "python",
   "nbconvert_exporter": "python",
   "pygments_lexer": "ipython3",
   "version": "3.13.3"
  }
 },
 "nbformat": 4,
 "nbformat_minor": 5
}
